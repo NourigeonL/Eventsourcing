{
 "cells": [
  {
   "cell_type": "code",
   "execution_count": 1,
   "metadata": {},
   "outputs": [],
   "source": [
    "from eventsourcing.encryption import CryptoRepository,InMemCryptoStore\n",
    "from eventsourcing.repositories import EventStoreRepository\n",
    "from eventsourcing.event_stores import InMemEventStore\n",
    "from example.user import User\n",
    "from datetime import date\n",
    "from example.guid import guid"
   ]
  },
  {
   "cell_type": "markdown",
   "metadata": {},
   "source": [
    "### Initialize the in-memory encryption key store, eventstore, and repositories"
   ]
  },
  {
   "cell_type": "code",
   "execution_count": 2,
   "metadata": {},
   "outputs": [],
   "source": [
    "crypto_store = InMemCryptoStore()\n",
    "event_store = InMemEventStore()\n",
    "\n",
    "CryptoRepository.crypto_store = crypto_store\n",
    "user_repo = EventStoreRepository[User](event_store, User)"
   ]
  },
  {
   "cell_type": "markdown",
   "metadata": {},
   "source": [
    "### Create a user and show that its attributes are clear"
   ]
  },
  {
   "cell_type": "code",
   "execution_count": 3,
   "metadata": {},
   "outputs": [
    {
     "name": "stdout",
     "output_type": "stream",
     "text": [
      "d2a69be0-c97e-40d6-a752-08c98c02f97a Paul Boulanger 1997-02-18\n"
     ]
    }
   ],
   "source": [
    "user = User(guid(), \"Paul\", \"Boulanger\", date(1997,2,18))\n",
    "\n",
    "print(user.id, user.first_name, user.last_name, user.date_of_birth.isoformat())\n"
   ]
  },
  {
   "cell_type": "markdown",
   "metadata": {},
   "source": [
    "### Save the user in the eventstore"
   ]
  },
  {
   "cell_type": "markdown",
   "metadata": {},
   "source": [
    "The eventstore and key store are both empty"
   ]
  },
  {
   "cell_type": "code",
   "execution_count": 4,
   "metadata": {},
   "outputs": [
    {
     "name": "stdout",
     "output_type": "stream",
     "text": [
      "{}\n",
      "{}\n"
     ]
    }
   ],
   "source": [
    "print(event_store.current)\n",
    "print(crypto_store.store)"
   ]
  },
  {
   "cell_type": "markdown",
   "metadata": {},
   "source": [
    "Saving the user in the eventstore"
   ]
  },
  {
   "cell_type": "code",
   "execution_count": 5,
   "metadata": {},
   "outputs": [],
   "source": [
    "await user_repo.save(user,0)\n"
   ]
  },
  {
   "cell_type": "markdown",
   "metadata": {},
   "source": [
    "The events related to the user are saved in the eventstore and an encryption key linked to the user was created and stored in the encryption key store"
   ]
  },
  {
   "cell_type": "code",
   "execution_count": 6,
   "metadata": {},
   "outputs": [
    {
     "name": "stdout",
     "output_type": "stream",
     "text": [
      "{'user-d2a69be0-c97e-40d6-a752-08c98c02f97a': [<example.event_store.EventDescriptor object at 0x0000022E4CDDF250>]}\n",
      "{'d2a69be0-c97e-40d6-a752-08c98c02f97a': b'f4_FIVBXmGItxLYKUWR_obw58uzHhIjPI1WvxFQ-LxE='}\n"
     ]
    }
   ],
   "source": [
    "print(event_store.current)\n",
    "print(crypto_store.store)"
   ]
  },
  {
   "cell_type": "markdown",
   "metadata": {},
   "source": [
    "### Showing the encryption"
   ]
  },
  {
   "cell_type": "markdown",
   "metadata": {},
   "source": [
    "The personnal data (in this case: `first_name`, `last_name`, `month_of_birth` and `day_of_birth`) are encrypted in the eventstore"
   ]
  },
  {
   "cell_type": "code",
   "execution_count": 7,
   "metadata": {},
   "outputs": [
    {
     "data": {
      "text/plain": [
       "'{\"id\": \"d2a69be0-c97e-40d6-a752-08c98c02f97a\", \"first_name\": \"encrypted_gAAAAABmjz0AAr5Knbakw9XYOTRlmxUfjuPv1ffUQim8YPszHt1cKipJvKHpSgSboQrTAyfQQdZOKgptXYfBGgVzGuIN0aUL9w==\", \"last_name\": \"encrypted_gAAAAABmjz0Aq0wP-dlLCNxy73U3wsO0OfesD3ADY_nkFoEYB7d1afdCDQ6krU7cdKQKzcA8F13wEEiqO0T-LXCJUng46cmGmQ==\", \"year_of_birth\": 1997, \"month_of_birth\": \"encrypted_gAAAAABmjz0AUnVI40v55fPWE6hP3VtMrofjoyrCKSbP3I4FcfSS1fESiTEAhBXZoJVmyV1IyMnihnm8BPQxulAVPWhQmVlTsQ==\", \"day_of_birth\": \"encrypted_gAAAAABmjz0AyhlO5T9eUQ6gKhYKuD_txc3aIVYwh1XICbCI-_MY6nGeCcHGUvTHUQlICWu_uJw8wI_niqeBQeJlleD6nKvxVA==\"}'"
      ]
     },
     "execution_count": 7,
     "metadata": {},
     "output_type": "execute_result"
    }
   ],
   "source": [
    "event_store.current[User.to_stream_id(user.id)][0].event_data"
   ]
  },
  {
   "cell_type": "markdown",
   "metadata": {},
   "source": [
    "Since there is an encryption key, we can retrieve the personnal informations of the user in a decrypted state"
   ]
  },
  {
   "cell_type": "code",
   "execution_count": 8,
   "metadata": {},
   "outputs": [
    {
     "data": {
      "text/plain": [
       "[UserCreated(id='d2a69be0-c97e-40d6-a752-08c98c02f97a', first_name='Paul', last_name='Boulanger', year_of_birth=1997, month_of_birth=2, day_of_birth=18)]"
      ]
     },
     "execution_count": 8,
     "metadata": {},
     "output_type": "execute_result"
    }
   ],
   "source": [
    "events = await event_store.get_events_for_aggregate(User.to_stream_id(user.id))\n",
    "events"
   ]
  },
  {
   "cell_type": "markdown",
   "metadata": {},
   "source": [
    "We delete the user's encryption key"
   ]
  },
  {
   "cell_type": "code",
   "execution_count": 9,
   "metadata": {},
   "outputs": [],
   "source": [
    "crypto_store.remove(user.id)"
   ]
  },
  {
   "cell_type": "markdown",
   "metadata": {},
   "source": [
    "Now the personnal informations are still encrypted"
   ]
  },
  {
   "cell_type": "code",
   "execution_count": 10,
   "metadata": {},
   "outputs": [
    {
     "data": {
      "text/plain": [
       "[UserCreated(id='d2a69be0-c97e-40d6-a752-08c98c02f97a', first_name='encrypted_gAAAAABmjz0AAr5Knbakw9XYOTRlmxUfjuPv1ffUQim8YPszHt1cKipJvKHpSgSboQrTAyfQQdZOKgptXYfBGgVzGuIN0aUL9w==', last_name='encrypted_gAAAAABmjz0Aq0wP-dlLCNxy73U3wsO0OfesD3ADY_nkFoEYB7d1afdCDQ6krU7cdKQKzcA8F13wEEiqO0T-LXCJUng46cmGmQ==', year_of_birth=1997, month_of_birth='encrypted_gAAAAABmjz0AUnVI40v55fPWE6hP3VtMrofjoyrCKSbP3I4FcfSS1fESiTEAhBXZoJVmyV1IyMnihnm8BPQxulAVPWhQmVlTsQ==', day_of_birth='encrypted_gAAAAABmjz0AyhlO5T9eUQ6gKhYKuD_txc3aIVYwh1XICbCI-_MY6nGeCcHGUvTHUQlICWu_uJw8wI_niqeBQeJlleD6nKvxVA==')]"
      ]
     },
     "execution_count": 10,
     "metadata": {},
     "output_type": "execute_result"
    }
   ],
   "source": [
    "events = await event_store.get_events_for_aggregate(User.to_stream_id(user.id))\n",
    "events"
   ]
  },
  {
   "cell_type": "markdown",
   "metadata": {},
   "source": [
    "When we load our user from the eventstore, the personnal information are encrypted or replaced by fake information"
   ]
  },
  {
   "cell_type": "code",
   "execution_count": 11,
   "metadata": {},
   "outputs": [
    {
     "name": "stdout",
     "output_type": "stream",
     "text": [
      "d2a69be0-c97e-40d6-a752-08c98c02f97a encrypted_gAAAAABmjz0AAr5Knbakw9XYOTRlmxUfjuPv1ffUQim8YPszHt1cKipJvKHpSgSboQrTAyfQQdZOKgptXYfBGgVzGuIN0aUL9w== encrypted_gAAAAABmjz0Aq0wP-dlLCNxy73U3wsO0OfesD3ADY_nkFoEYB7d1afdCDQ6krU7cdKQKzcA8F13wEEiqO0T-LXCJUng46cmGmQ== 1997-01-01\n"
     ]
    }
   ],
   "source": [
    "new_user = User()\n",
    "new_user.loads_from_history(events)\n",
    "print(new_user.id, new_user.first_name, new_user.last_name, new_user.date_of_birth.isoformat())"
   ]
  }
 ],
 "metadata": {
  "kernelspec": {
   "display_name": "venv",
   "language": "python",
   "name": "python3"
  },
  "language_info": {
   "codemirror_mode": {
    "name": "ipython",
    "version": 3
   },
   "file_extension": ".py",
   "mimetype": "text/x-python",
   "name": "python",
   "nbconvert_exporter": "python",
   "pygments_lexer": "ipython3",
   "version": "3.11.5"
  }
 },
 "nbformat": 4,
 "nbformat_minor": 2
}
