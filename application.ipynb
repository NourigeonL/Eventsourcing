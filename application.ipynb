{
 "cells": [
  {
   "cell_type": "code",
   "execution_count": 1,
   "metadata": {},
   "outputs": [],
   "source": [
    "from example.crypto_store import InMemCryptoStore\n",
    "from eventsourcing.encryption import CryptoRepository\n",
    "from eventsourcing.repositories import EventStoreRepository\n",
    "from example.event_store import InMemEventStore\n",
    "from example.user import User\n",
    "from datetime import date\n",
    "from example.guid import guid"
   ]
  },
  {
   "cell_type": "markdown",
   "metadata": {},
   "source": [
    "### Initialize the in-memory encryption key store, eventstore, and repositories"
   ]
  },
  {
   "cell_type": "code",
   "execution_count": 2,
   "metadata": {},
   "outputs": [],
   "source": [
    "crypto_store = InMemCryptoStore()\n",
    "event_store = InMemEventStore()\n",
    "\n",
    "CryptoRepository.crypto_store = crypto_store\n",
    "user_repo = EventStoreRepository[User](event_store, User)"
   ]
  },
  {
   "cell_type": "markdown",
   "metadata": {},
   "source": [
    "### Create a user and show that its attributes are clear"
   ]
  },
  {
   "cell_type": "code",
   "execution_count": 3,
   "metadata": {},
   "outputs": [
    {
     "name": "stdout",
     "output_type": "stream",
     "text": [
      "56b6cf99-5be5-44f5-bac8-2316631b051e Paul Boulanger 1997-02-18\n"
     ]
    }
   ],
   "source": [
    "user = User(guid(), \"Paul\", \"Boulanger\", date(1997,2,18))\n",
    "\n",
    "print(user.id, user.first_name, user.last_name, user.date_of_birth.isoformat())\n"
   ]
  },
  {
   "cell_type": "markdown",
   "metadata": {},
   "source": [
    "### Save the user in the eventstore"
   ]
  },
  {
   "cell_type": "markdown",
   "metadata": {},
   "source": [
    "The eventstore and key store are both empty"
   ]
  },
  {
   "cell_type": "code",
   "execution_count": 4,
   "metadata": {},
   "outputs": [
    {
     "name": "stdout",
     "output_type": "stream",
     "text": [
      "{}\n",
      "{}\n"
     ]
    }
   ],
   "source": [
    "print(event_store.current)\n",
    "print(crypto_store.store)"
   ]
  },
  {
   "cell_type": "markdown",
   "metadata": {},
   "source": [
    "Saving the user in the eventstore"
   ]
  },
  {
   "cell_type": "code",
   "execution_count": 5,
   "metadata": {},
   "outputs": [],
   "source": [
    "await user_repo.save(user,0)\n"
   ]
  },
  {
   "cell_type": "markdown",
   "metadata": {},
   "source": [
    "The events related to the user are saved in the eventstore and an encryption key linked to the user was created and stored in the encryption key store"
   ]
  },
  {
   "cell_type": "code",
   "execution_count": 6,
   "metadata": {},
   "outputs": [
    {
     "name": "stdout",
     "output_type": "stream",
     "text": [
      "{'user-56b6cf99-5be5-44f5-bac8-2316631b051e': [<example.event_store.EventDescriptor object at 0x00000158B8DE0D10>]}\n",
      "{'56b6cf99-5be5-44f5-bac8-2316631b051e': b'0U9TxOPPjQ7VbCdUanRvVOK29l8aNUty_Aa3k-7de7Y='}\n"
     ]
    }
   ],
   "source": [
    "print(event_store.current)\n",
    "print(crypto_store.store)"
   ]
  },
  {
   "cell_type": "markdown",
   "metadata": {},
   "source": [
    "### Showing the encryption"
   ]
  },
  {
   "cell_type": "markdown",
   "metadata": {},
   "source": [
    "The personnal data (in this case: `first_name`, `last_name`, `month_of_birth` and `day_of_birth`) are encrypted in the eventstore"
   ]
  },
  {
   "cell_type": "code",
   "execution_count": 7,
   "metadata": {},
   "outputs": [
    {
     "data": {
      "text/plain": [
       "'{\"id\": \"56b6cf99-5be5-44f5-bac8-2316631b051e\", \"first_name\": \"encrypted_gAAAAABmjiWjE4iU5WRBjpy4i-68coVHqrlC11vEOOu-23G5U2Q9MmDBxNzog8cDIMwrDKEY_CQ3_cBRN9CvYsjkr3LaXjNHsw==\", \"last_name\": \"encrypted_gAAAAABmjiWjwlsnRA-PLxphp9jLf0l0NpEmk7tHoOoKJBJLQQc_GByvCnQKO6JvWV0uSGKJ4fLNt8rtOsU7pBJnZ_qXiUZsSw==\", \"year_of_birth\": 1997, \"month_of_birth\": \"encrypted_gAAAAABmjiWjslk0xFbUGwBWje6gdzlL35eA1xyMkMmvv-83slmNE-fiQtfHnIV86cU-saAo1FXVo6KW8stQ4CBzHcWLSJHQ-A==\", \"day_of_birth\": \"encrypted_gAAAAABmjiWjtsyGutDNc5m1qccCq9u-lg05XW149l9LfFByetNZ1PwrxpRRPK8be5sJEst3ejMeKu59OjOOM-moT22SusQYtw==\"}'"
      ]
     },
     "execution_count": 7,
     "metadata": {},
     "output_type": "execute_result"
    }
   ],
   "source": [
    "event_store.current[User.to_stream_id(user.id)][0].event_data"
   ]
  },
  {
   "cell_type": "markdown",
   "metadata": {},
   "source": [
    "Since there is an encryption key, we can retrieve the personnal informations of the user in a decrypted state"
   ]
  },
  {
   "cell_type": "code",
   "execution_count": 8,
   "metadata": {},
   "outputs": [
    {
     "ename": "InvalidToken",
     "evalue": "",
     "output_type": "error",
     "traceback": [
      "\u001b[1;31m---------------------------------------------------------------------------\u001b[0m",
      "\u001b[1;31mInvalidToken\u001b[0m                              Traceback (most recent call last)",
      "Cell \u001b[1;32mIn[8], line 1\u001b[0m\n\u001b[1;32m----> 1\u001b[0m events \u001b[38;5;241m=\u001b[39m \u001b[38;5;28;01mawait\u001b[39;00m event_store\u001b[38;5;241m.\u001b[39mget_events_for_aggregate(User\u001b[38;5;241m.\u001b[39mto_stream_id(user\u001b[38;5;241m.\u001b[39mid))\n\u001b[0;32m      2\u001b[0m events\n",
      "File \u001b[1;32mc:\\Users\\louis\\Desktop\\code\\EventSourcing\\example\\event_store.py:50\u001b[0m, in \u001b[0;36mInMemEventStore.get_events_for_aggregate\u001b[1;34m(self, aggregate_id)\u001b[0m\n\u001b[0;32m     48\u001b[0m \u001b[38;5;28;01mif\u001b[39;00m event_descriptors \u001b[38;5;129;01mis\u001b[39;00m \u001b[38;5;28;01mNone\u001b[39;00m:\n\u001b[0;32m     49\u001b[0m     \u001b[38;5;28;01mreturn\u001b[39;00m \u001b[38;5;28;01mNone\u001b[39;00m\n\u001b[1;32m---> 50\u001b[0m \u001b[38;5;28;01mreturn\u001b[39;00m \u001b[43m[\u001b[49m\u001b[43mEVENT_MAP\u001b[49m\u001b[43m[\u001b[49m\u001b[43mdesc\u001b[49m\u001b[38;5;241;43m.\u001b[39;49m\u001b[43mevent_type\u001b[49m\u001b[43m]\u001b[49m\u001b[38;5;241;43m.\u001b[39;49m\u001b[43mfrom_dict\u001b[49m\u001b[43m(\u001b[49m\u001b[43mjson\u001b[49m\u001b[38;5;241;43m.\u001b[39;49m\u001b[43mloads\u001b[49m\u001b[43m(\u001b[49m\u001b[43mdesc\u001b[49m\u001b[38;5;241;43m.\u001b[39;49m\u001b[43mevent_data\u001b[49m\u001b[43m)\u001b[49m\u001b[43m)\u001b[49m\u001b[43m \u001b[49m\u001b[38;5;28;43;01mfor\u001b[39;49;00m\u001b[43m \u001b[49m\u001b[43mdesc\u001b[49m\u001b[43m \u001b[49m\u001b[38;5;129;43;01min\u001b[39;49;00m\u001b[43m \u001b[49m\u001b[43mevent_descriptors\u001b[49m\u001b[43m]\u001b[49m\n",
      "File \u001b[1;32mc:\\Users\\louis\\Desktop\\code\\EventSourcing\\example\\event_store.py:50\u001b[0m, in \u001b[0;36m<listcomp>\u001b[1;34m(.0)\u001b[0m\n\u001b[0;32m     48\u001b[0m \u001b[38;5;28;01mif\u001b[39;00m event_descriptors \u001b[38;5;129;01mis\u001b[39;00m \u001b[38;5;28;01mNone\u001b[39;00m:\n\u001b[0;32m     49\u001b[0m     \u001b[38;5;28;01mreturn\u001b[39;00m \u001b[38;5;28;01mNone\u001b[39;00m\n\u001b[1;32m---> 50\u001b[0m \u001b[38;5;28;01mreturn\u001b[39;00m [\u001b[43mEVENT_MAP\u001b[49m\u001b[43m[\u001b[49m\u001b[43mdesc\u001b[49m\u001b[38;5;241;43m.\u001b[39;49m\u001b[43mevent_type\u001b[49m\u001b[43m]\u001b[49m\u001b[38;5;241;43m.\u001b[39;49m\u001b[43mfrom_dict\u001b[49m\u001b[43m(\u001b[49m\u001b[43mjson\u001b[49m\u001b[38;5;241;43m.\u001b[39;49m\u001b[43mloads\u001b[49m\u001b[43m(\u001b[49m\u001b[43mdesc\u001b[49m\u001b[38;5;241;43m.\u001b[39;49m\u001b[43mevent_data\u001b[49m\u001b[43m)\u001b[49m\u001b[43m)\u001b[49m \u001b[38;5;28;01mfor\u001b[39;00m desc \u001b[38;5;129;01min\u001b[39;00m event_descriptors]\n",
      "File \u001b[1;32mc:\\Users\\louis\\Desktop\\code\\EventSourcing\\eventsourcing\\encryption.py:101\u001b[0m, in \u001b[0;36mencrypted.<locals>.encrypt.<locals>.new_from_dict\u001b[1;34m(dict_values)\u001b[0m\n\u001b[0;32m     99\u001b[0m \u001b[38;5;28;01mfor\u001b[39;00m member \u001b[38;5;129;01min\u001b[39;00m encrypted_members:\n\u001b[0;32m    100\u001b[0m     field_type \u001b[38;5;241m=\u001b[39m \u001b[38;5;28mcls\u001b[39m\u001b[38;5;241m.\u001b[39m\u001b[38;5;18m__dict__\u001b[39m[\u001b[38;5;124m\"\u001b[39m\u001b[38;5;124m__dataclass_fields__\u001b[39m\u001b[38;5;124m\"\u001b[39m][member]\u001b[38;5;241m.\u001b[39mtype\n\u001b[1;32m--> 101\u001b[0m     decrypted_value \u001b[38;5;241m=\u001b[39m \u001b[43mfernet\u001b[49m\u001b[38;5;241;43m.\u001b[39;49m\u001b[43mdecrypt\u001b[49m\u001b[43m(\u001b[49m\u001b[43mdict_values\u001b[49m\u001b[43m[\u001b[49m\u001b[43mmember\u001b[49m\u001b[43m]\u001b[49m\u001b[43m)\u001b[49m\u001b[38;5;241m.\u001b[39mdecode(\u001b[38;5;124m'\u001b[39m\u001b[38;5;124mutf-8\u001b[39m\u001b[38;5;124m'\u001b[39m)\u001b[38;5;241m.\u001b[39mremoveprefix(\u001b[38;5;124m\"\u001b[39m\u001b[38;5;124mencrypted_\u001b[39m\u001b[38;5;124m\"\u001b[39m)\n\u001b[0;32m    102\u001b[0m     new_dict[member] \u001b[38;5;241m=\u001b[39m field_type(decrypted_value)\n\u001b[0;32m    104\u001b[0m \u001b[38;5;28;01mreturn\u001b[39;00m old_from_dict(new_dict)\n",
      "File \u001b[1;32mc:\\Users\\louis\\Desktop\\code\\EventSourcing\\venv\\Lib\\site-packages\\cryptography\\fernet.py:84\u001b[0m, in \u001b[0;36mFernet.decrypt\u001b[1;34m(self, token, ttl)\u001b[0m\n\u001b[0;32m     83\u001b[0m \u001b[38;5;28;01mdef\u001b[39;00m \u001b[38;5;21mdecrypt\u001b[39m(\u001b[38;5;28mself\u001b[39m, token: \u001b[38;5;28mbytes\u001b[39m \u001b[38;5;241m|\u001b[39m \u001b[38;5;28mstr\u001b[39m, ttl: \u001b[38;5;28mint\u001b[39m \u001b[38;5;241m|\u001b[39m \u001b[38;5;28;01mNone\u001b[39;00m \u001b[38;5;241m=\u001b[39m \u001b[38;5;28;01mNone\u001b[39;00m) \u001b[38;5;241m-\u001b[39m\u001b[38;5;241m>\u001b[39m \u001b[38;5;28mbytes\u001b[39m:\n\u001b[1;32m---> 84\u001b[0m     timestamp, data \u001b[38;5;241m=\u001b[39m \u001b[43mFernet\u001b[49m\u001b[38;5;241;43m.\u001b[39;49m\u001b[43m_get_unverified_token_data\u001b[49m\u001b[43m(\u001b[49m\u001b[43mtoken\u001b[49m\u001b[43m)\u001b[49m\n\u001b[0;32m     85\u001b[0m     \u001b[38;5;28;01mif\u001b[39;00m ttl \u001b[38;5;129;01mis\u001b[39;00m \u001b[38;5;28;01mNone\u001b[39;00m:\n\u001b[0;32m     86\u001b[0m         time_info \u001b[38;5;241m=\u001b[39m \u001b[38;5;28;01mNone\u001b[39;00m\n",
      "File \u001b[1;32mc:\\Users\\louis\\Desktop\\code\\EventSourcing\\venv\\Lib\\site-packages\\cryptography\\fernet.py:118\u001b[0m, in \u001b[0;36mFernet._get_unverified_token_data\u001b[1;34m(token)\u001b[0m\n\u001b[0;32m    115\u001b[0m     \u001b[38;5;28;01mraise\u001b[39;00m InvalidToken\n\u001b[0;32m    117\u001b[0m \u001b[38;5;28;01mif\u001b[39;00m \u001b[38;5;129;01mnot\u001b[39;00m data \u001b[38;5;129;01mor\u001b[39;00m data[\u001b[38;5;241m0\u001b[39m] \u001b[38;5;241m!=\u001b[39m \u001b[38;5;241m0x80\u001b[39m:\n\u001b[1;32m--> 118\u001b[0m     \u001b[38;5;28;01mraise\u001b[39;00m InvalidToken\n\u001b[0;32m    120\u001b[0m \u001b[38;5;28;01mif\u001b[39;00m \u001b[38;5;28mlen\u001b[39m(data) \u001b[38;5;241m<\u001b[39m \u001b[38;5;241m9\u001b[39m:\n\u001b[0;32m    121\u001b[0m     \u001b[38;5;28;01mraise\u001b[39;00m InvalidToken\n",
      "\u001b[1;31mInvalidToken\u001b[0m: "
     ]
    }
   ],
   "source": [
    "events = await event_store.get_events_for_aggregate(User.to_stream_id(user.id))\n",
    "events"
   ]
  },
  {
   "cell_type": "markdown",
   "metadata": {},
   "source": [
    "We delete the user's encryption key"
   ]
  },
  {
   "cell_type": "code",
   "execution_count": null,
   "metadata": {},
   "outputs": [],
   "source": [
    "crypto_store.remove(user.id)"
   ]
  },
  {
   "cell_type": "markdown",
   "metadata": {},
   "source": [
    "Now the personnal informations are still encrypted"
   ]
  },
  {
   "cell_type": "code",
   "execution_count": null,
   "metadata": {},
   "outputs": [
    {
     "data": {
      "text/plain": [
       "[UserCreated(id='a8854ba1-527f-47f6-807c-8dc07ea4c42a', first_name='gAAAAABmjiRvJT59nOszJjT84fJHfUW3bOWDsk1a0na7VyLeDh6dX_TzhyvJjuXBm_f8DyyXz5NhnV-g6zInzksfSg33yXmqlw==', last_name='gAAAAABmjiRvdNjOihGYQRjg4dh8QpFas0Qs-xuXwQSP8lwOxetAIenSTUq2m_XZ3oB6l1TjyjCtZWDZ_RR-NN1F18bGeKgvlw==', year_of_birth=1997, month_of_birth='gAAAAABmjiRvM8eeEeInchs1Th5X7VjwPsLmeaXhp_QUYXz9ZzhEC8GfKQlOVyZQwq3hv7QqUGgFn9H7hnJFpCkEVEdHbUkRhA==', day_of_birth='gAAAAABmjiRv2Pkt3Wc6vp6xqmMObu6Qbh0pziz55-bA6Hj4VU5Dak_DbFeoawrSvcQR3lVT7eZ-FH4R2WT2TULw4JKNkpyr1w==')]"
      ]
     },
     "execution_count": 21,
     "metadata": {},
     "output_type": "execute_result"
    }
   ],
   "source": [
    "events = await event_store.get_events_for_aggregate(User.to_stream_id(user.id))\n",
    "events"
   ]
  },
  {
   "cell_type": "markdown",
   "metadata": {},
   "source": [
    "When we load our user from the eventstore, the personnal information are encrypted or replaced by fake information"
   ]
  },
  {
   "cell_type": "code",
   "execution_count": null,
   "metadata": {},
   "outputs": [
    {
     "name": "stdout",
     "output_type": "stream",
     "text": [
      "a8854ba1-527f-47f6-807c-8dc07ea4c42a gAAAAABmjiRvJT59nOszJjT84fJHfUW3bOWDsk1a0na7VyLeDh6dX_TzhyvJjuXBm_f8DyyXz5NhnV-g6zInzksfSg33yXmqlw== gAAAAABmjiRvdNjOihGYQRjg4dh8QpFas0Qs-xuXwQSP8lwOxetAIenSTUq2m_XZ3oB6l1TjyjCtZWDZ_RR-NN1F18bGeKgvlw== 1997-01-01\n"
     ]
    }
   ],
   "source": [
    "new_user = User()\n",
    "new_user.loads_from_history(events)\n",
    "print(new_user.id, new_user.first_name, new_user.last_name, new_user.date_of_birth.isoformat())"
   ]
  }
 ],
 "metadata": {
  "kernelspec": {
   "display_name": "venv",
   "language": "python",
   "name": "python3"
  },
  "language_info": {
   "codemirror_mode": {
    "name": "ipython",
    "version": 3
   },
   "file_extension": ".py",
   "mimetype": "text/x-python",
   "name": "python",
   "nbconvert_exporter": "python",
   "pygments_lexer": "ipython3",
   "version": "3.11.5"
  }
 },
 "nbformat": 4,
 "nbformat_minor": 2
}
