{
 "cells": [
  {
   "cell_type": "code",
   "execution_count": 12,
   "metadata": {},
   "outputs": [],
   "source": [
    "from eventsourcing.encryption import CryptoRepository,InMemCryptoStore\n",
    "from eventsourcing.repositories import EventStoreRepository\n",
    "from eventsourcing.event_stores import InMemEventStore\n",
    "from example.user import User\n",
    "from datetime import date\n",
    "from example.guid import guid"
   ]
  },
  {
   "cell_type": "markdown",
   "metadata": {},
   "source": [
    "### Initialize the in-memory encryption key store, eventstore, and repositories"
   ]
  },
  {
   "cell_type": "code",
   "execution_count": 13,
   "metadata": {},
   "outputs": [],
   "source": [
    "crypto_store = InMemCryptoStore()\n",
    "event_store = InMemEventStore()\n",
    "\n",
    "CryptoRepository.crypto_store = crypto_store\n",
    "user_repo = EventStoreRepository[User](event_store, User)"
   ]
  },
  {
   "cell_type": "markdown",
   "metadata": {},
   "source": [
    "### Create a user and show that its attributes are clear"
   ]
  },
  {
   "cell_type": "code",
   "execution_count": 14,
   "metadata": {},
   "outputs": [
    {
     "name": "stdout",
     "output_type": "stream",
     "text": [
      "7dc55309-1963-46dc-8b12-6fb8aa4e0c75 Paul Boulanger 1997-02-18\n",
      "7dc55309-1963-46dc-8b12-6fb8aa4e0c75 Paul Boucher 1997-02-18\n"
     ]
    }
   ],
   "source": [
    "user = User(guid(), \"Paul\", \"Boulanger\", date(1997,2,18))\n",
    "\n",
    "print(user.id, user.first_name, user.last_name, user.date_of_birth.isoformat())\n",
    "\n",
    "user.change_last_name(\"Boucher\")\n",
    "\n",
    "print(user.id, user.first_name, user.last_name, user.date_of_birth.isoformat())\n"
   ]
  },
  {
   "cell_type": "markdown",
   "metadata": {},
   "source": [
    "### Save the user in the eventstore"
   ]
  },
  {
   "cell_type": "markdown",
   "metadata": {},
   "source": [
    "The eventstore and key store are both empty"
   ]
  },
  {
   "cell_type": "code",
   "execution_count": 15,
   "metadata": {},
   "outputs": [
    {
     "name": "stdout",
     "output_type": "stream",
     "text": [
      "{}\n",
      "{}\n"
     ]
    }
   ],
   "source": [
    "print(event_store.current)\n",
    "print(crypto_store.store)"
   ]
  },
  {
   "cell_type": "markdown",
   "metadata": {},
   "source": [
    "Saving the user in the eventstore"
   ]
  },
  {
   "cell_type": "code",
   "execution_count": 16,
   "metadata": {},
   "outputs": [],
   "source": [
    "await user_repo.save(user,0)\n"
   ]
  },
  {
   "cell_type": "markdown",
   "metadata": {},
   "source": [
    "The events related to the user are saved in the eventstore and an encryption key linked to the user was created and stored in the encryption key store"
   ]
  },
  {
   "cell_type": "code",
   "execution_count": 17,
   "metadata": {},
   "outputs": [
    {
     "name": "stdout",
     "output_type": "stream",
     "text": [
      "{'user-7dc55309-1963-46dc-8b12-6fb8aa4e0c75': [(event:UserCreated - version:0), (event:LastNameChanged - version:1)]}\n",
      "{'7dc55309-1963-46dc-8b12-6fb8aa4e0c75': b'LdPQ1wa7HZoQvGXy75HlfLShCMAQyHhyhyAUwrjqZx4='}\n"
     ]
    }
   ],
   "source": [
    "print(event_store.current)\n",
    "print(crypto_store.store)"
   ]
  },
  {
   "cell_type": "markdown",
   "metadata": {},
   "source": [
    "### Showing the encryption"
   ]
  },
  {
   "cell_type": "markdown",
   "metadata": {},
   "source": [
    "The personnal data (in this case: `first_name`, `last_name`, `month_of_birth` and `day_of_birth`) are encrypted in the eventstore"
   ]
  },
  {
   "cell_type": "code",
   "execution_count": 23,
   "metadata": {},
   "outputs": [
    {
     "name": "stdout",
     "output_type": "stream",
     "text": [
      "{\"id\": \"7dc55309-1963-46dc-8b12-6fb8aa4e0c75\", \"first_name\": \"encrypted_gAAAAABmpggW3WwniUc9G0y4N6g-C_nu38OyoREdlYfrRoUI67LOuLd2Ks---HbOsUOoFpz3GtrGHgjk5IZoH1Sbm-CqZB16Gw==\", \"last_name\": \"encrypted_gAAAAABmpggWxi78787QxiqGrfNWKQUE6Jqr1wxpINZlcegwF7ro1kW4Jmme9hqwKi6lxGDDkzmclSsi8v3vwfiaeD3PME9eYg==\", \"year_of_birth\": 1997, \"month_of_birth\": \"encrypted_gAAAAABmpggWGAZ5gICX8gPDpKmJ6A1DWGGtF_18vtnCnDITEO2WSNKpiVRwj8VfDkP2fZeqL3fx856MnDghdrZaEJMKU9sSEg==\", \"day_of_birth\": \"encrypted_gAAAAABmpggWq-PEZzgVh1glu73Y96qiLcV18sDh5ItbFwy5-Qoa_ByW3NzxhX2TPx3zTz-lhsqZkieHrJMLIRbEGEz3q42P0Q==\"}\n",
      "{\"id\": \"7dc55309-1963-46dc-8b12-6fb8aa4e0c75\", \"last_name\": \"encrypted_gAAAAABmpggWAUK_UR7QI5MOui5oIsx8uZuF1Qmk6yaQA089nabzeVZ0joaQRDxSazFvKj_d12GwamCMJw-dx78xnJ0XGG7P7Q==\"}\n"
     ]
    }
   ],
   "source": [
    "print(event_store.current[User.to_stream_id(user.id)][0].event_data)\n",
    "print(event_store.current[User.to_stream_id(user.id)][1].event_data)"
   ]
  },
  {
   "cell_type": "markdown",
   "metadata": {},
   "source": [
    "Since there is an encryption key, we can retrieve the personnal informations of the user in a decrypted state"
   ]
  },
  {
   "cell_type": "code",
   "execution_count": 19,
   "metadata": {},
   "outputs": [
    {
     "data": {
      "text/plain": [
       "[UserCreated(id='7dc55309-1963-46dc-8b12-6fb8aa4e0c75', first_name='Paul', last_name='Boulanger', year_of_birth=1997, month_of_birth=2, day_of_birth=18),\n",
       " LastNameChanged(id='7dc55309-1963-46dc-8b12-6fb8aa4e0c75', last_name='Boucher')]"
      ]
     },
     "execution_count": 19,
     "metadata": {},
     "output_type": "execute_result"
    }
   ],
   "source": [
    "events = await event_store.get_events_for_aggregate(User.to_stream_id(user.id))\n",
    "events"
   ]
  },
  {
   "cell_type": "markdown",
   "metadata": {},
   "source": [
    "We delete the user's encryption key"
   ]
  },
  {
   "cell_type": "code",
   "execution_count": 20,
   "metadata": {},
   "outputs": [],
   "source": [
    "crypto_store.remove(user.id)"
   ]
  },
  {
   "cell_type": "markdown",
   "metadata": {},
   "source": [
    "Now the personnal informations are still encrypted"
   ]
  },
  {
   "cell_type": "code",
   "execution_count": 21,
   "metadata": {},
   "outputs": [
    {
     "data": {
      "text/plain": [
       "[UserCreated(id='7dc55309-1963-46dc-8b12-6fb8aa4e0c75', first_name='encrypted_gAAAAABmpggW3WwniUc9G0y4N6g-C_nu38OyoREdlYfrRoUI67LOuLd2Ks---HbOsUOoFpz3GtrGHgjk5IZoH1Sbm-CqZB16Gw==', last_name='encrypted_gAAAAABmpggWxi78787QxiqGrfNWKQUE6Jqr1wxpINZlcegwF7ro1kW4Jmme9hqwKi6lxGDDkzmclSsi8v3vwfiaeD3PME9eYg==', year_of_birth=1997, month_of_birth='encrypted_gAAAAABmpggWGAZ5gICX8gPDpKmJ6A1DWGGtF_18vtnCnDITEO2WSNKpiVRwj8VfDkP2fZeqL3fx856MnDghdrZaEJMKU9sSEg==', day_of_birth='encrypted_gAAAAABmpggWq-PEZzgVh1glu73Y96qiLcV18sDh5ItbFwy5-Qoa_ByW3NzxhX2TPx3zTz-lhsqZkieHrJMLIRbEGEz3q42P0Q=='),\n",
       " LastNameChanged(id='7dc55309-1963-46dc-8b12-6fb8aa4e0c75', last_name='encrypted_gAAAAABmpggWAUK_UR7QI5MOui5oIsx8uZuF1Qmk6yaQA089nabzeVZ0joaQRDxSazFvKj_d12GwamCMJw-dx78xnJ0XGG7P7Q==')]"
      ]
     },
     "execution_count": 21,
     "metadata": {},
     "output_type": "execute_result"
    }
   ],
   "source": [
    "events = await event_store.get_events_for_aggregate(User.to_stream_id(user.id))\n",
    "events"
   ]
  },
  {
   "cell_type": "markdown",
   "metadata": {},
   "source": [
    "When we load our user from the eventstore, the personnal information are encrypted or replaced by fake information"
   ]
  },
  {
   "cell_type": "code",
   "execution_count": 22,
   "metadata": {},
   "outputs": [
    {
     "name": "stdout",
     "output_type": "stream",
     "text": [
      "7dc55309-1963-46dc-8b12-6fb8aa4e0c75 encrypted_gAAAAABmpggW3WwniUc9G0y4N6g-C_nu38OyoREdlYfrRoUI67LOuLd2Ks---HbOsUOoFpz3GtrGHgjk5IZoH1Sbm-CqZB16Gw== encrypted_gAAAAABmpggWAUK_UR7QI5MOui5oIsx8uZuF1Qmk6yaQA089nabzeVZ0joaQRDxSazFvKj_d12GwamCMJw-dx78xnJ0XGG7P7Q== 1997-01-01\n"
     ]
    }
   ],
   "source": [
    "new_user = User()\n",
    "new_user.loads_from_history(events)\n",
    "print(new_user.id, new_user.first_name, new_user.last_name, new_user.date_of_birth.isoformat())"
   ]
  }
 ],
 "metadata": {
  "kernelspec": {
   "display_name": "venv",
   "language": "python",
   "name": "python3"
  },
  "language_info": {
   "codemirror_mode": {
    "name": "ipython",
    "version": 3
   },
   "file_extension": ".py",
   "mimetype": "text/x-python",
   "name": "python",
   "nbconvert_exporter": "python",
   "pygments_lexer": "ipython3",
   "version": "3.11.9"
  }
 },
 "nbformat": 4,
 "nbformat_minor": 2
}
